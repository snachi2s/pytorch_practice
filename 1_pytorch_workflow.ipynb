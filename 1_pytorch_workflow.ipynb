{
  "nbformat": 4,
  "nbformat_minor": 0,
  "metadata": {
    "colab": {
      "provenance": []
    },
    "kernelspec": {
      "name": "python3",
      "display_name": "Python 3"
    },
    "language_info": {
      "name": "python"
    }
  },
  "cells": [
    {
      "cell_type": "code",
      "execution_count": 1,
      "metadata": {
        "id": "43eKtwFinccx"
      },
      "outputs": [],
      "source": [
        "import torch\n",
        "import torch.nn as nn #base class for all NN modules\n",
        "import matplotlib.pyplot as plt\n",
        "import numpy as np"
      ]
    },
    {
      "cell_type": "code",
      "source": [
        "# Linear regression model\n",
        "\n",
        "#parameters\n",
        "weight = 0.8\n",
        "bias = 0.2\n",
        "\n",
        "#random weights\n",
        "X = torch.arange(0,1, 0.04).unsqueeze(dim=1)\n",
        "\n",
        "#model\n",
        "y = (weight * X) + bias\n",
        "\n",
        "len(X), len(y)"
      ],
      "metadata": {
        "colab": {
          "base_uri": "https://localhost:8080/"
        },
        "id": "wCIA9FVVzdMN",
        "outputId": "fdbb4074-e085-439e-aca5-0209af5a71f9"
      },
      "execution_count": 2,
      "outputs": [
        {
          "output_type": "execute_result",
          "data": {
            "text/plain": [
              "(25, 25)"
            ]
          },
          "metadata": {},
          "execution_count": 2
        }
      ]
    },
    {
      "cell_type": "code",
      "source": [
        "# splitting data >> Recommended: scikit\n",
        "\n",
        "train_data = int(0.8*len(X))\n",
        "X_train, y_train = X[:train_data], y[:train_data]\n",
        "X_test, y_test = y[train_data:], y[train_data:]\n",
        "\n",
        "len(X_train), len(y_train), len(X_test), len(y_test)"
      ],
      "metadata": {
        "colab": {
          "base_uri": "https://localhost:8080/"
        },
        "id": "AySFTMLc1KpP",
        "outputId": "edd8599f-7764-44f0-fa77-3ad358e3331d"
      },
      "execution_count": 3,
      "outputs": [
        {
          "output_type": "execute_result",
          "data": {
            "text/plain": [
              "(20, 20, 5, 5)"
            ]
          },
          "metadata": {},
          "execution_count": 3
        }
      ]
    },
    {
      "cell_type": "code",
      "source": [
        "plt.figure(figsize=(7,5))\n",
        "plt.scatter(X_train, y_train, label = 'Training data')\n",
        "plt.scatter(X_test, y_test, label = 'Test data')\n",
        "\n",
        "plt.legend()\n",
        "plt.show()"
      ],
      "metadata": {
        "colab": {
          "base_uri": "https://localhost:8080/",
          "height": 322
        },
        "id": "03FPTUKy5A1g",
        "outputId": "c6025b88-0f2f-4259-c97c-1b90de724614"
      },
      "execution_count": 4,
      "outputs": [
        {
          "output_type": "display_data",
          "data": {
            "text/plain": [
              "<Figure size 504x360 with 1 Axes>"
            ],
            "image/png": "[encoded data removed]"
          },
          "metadata": {
            "needs_background": "light"
          }
        }
      ]
    },
    {
      "cell_type": "code",
      "source": [
        "'''nn.parameter >> it gets automatically added to the model parameters \n",
        "                   (net.parameters()) (but not the variables)\n",
        "                   (learnable parameters of the network - one way)\n",
        "''' \n",
        "#Model for linear regression\n",
        "class LinearRegression(nn.Module):\n",
        "  def __init__(self):\n",
        "    super().__init__()\n",
        "    #Initialize layers, parameters for our model\n",
        "    self.weights = nn.Parameter(torch.randn(1,requires_grad=True))\n",
        "    self.bias = nn.Parameter(torch.rand(1, requires_grad=True))\n",
        "\n",
        "  def forward(self,x):\n",
        "    return self.weights * x + self.bias\n",
        "    "
      ],
      "metadata": {
        "id": "ihi8VaTM60my"
      },
      "execution_count": 5,
      "outputs": []
    },
    {
      "cell_type": "code",
      "source": [
        "#internals\n",
        "torch.manual_seed(42)\n",
        "\n",
        "model = LinearRegression()\n",
        "list(model.parameters())\n",
        "model.state_dict()\n"
      ],
      "metadata": {
        "colab": {
          "base_uri": "https://localhost:8080/"
        },
        "id": "Ru0xqOjqNReg",
        "outputId": "e3b35034-fcec-47b6-8140-fd4628ca7b51"
      },
      "execution_count": 6,
      "outputs": [
        {
          "output_type": "execute_result",
          "data": {
            "text/plain": [
              "OrderedDict([('weights', tensor([0.3367])), ('bias', tensor([0.3904]))])"
            ]
          },
          "metadata": {},
          "execution_count": 6
        }
      ]
    },
    {
      "cell_type": "code",
      "source": [
        "with torch.inference_mode():  #similar to with torch.no_grad()\n",
        "  y_predictions = model(X_test)\n",
        "\n",
        "y_predictions"
      ],
      "metadata": {
        "colab": {
          "base_uri": "https://localhost:8080/"
        },
        "id": "XcWNptxrPj9t",
        "outputId": "47f06f39-7363-4e59-c219-c08494e5f55f"
      },
      "execution_count": 7,
      "outputs": [
        {
          "output_type": "execute_result",
          "data": {
            "text/plain": [
              "tensor([[0.6733],\n",
              "        [0.6840],\n",
              "        [0.6948],\n",
              "        [0.7056],\n",
              "        [0.7164]])"
            ]
          },
          "metadata": {},
          "execution_count": 7
        }
      ]
    },
    {
      "cell_type": "code",
      "source": [
        "y_test"
      ],
      "metadata": {
        "colab": {
          "base_uri": "https://localhost:8080/"
        },
        "id": "3ZNmdZDWSX3t",
        "outputId": "436a722f-edb6-4ae7-c154-d90967e98c6b"
      },
      "execution_count": 8,
      "outputs": [
        {
          "output_type": "execute_result",
          "data": {
            "text/plain": [
              "tensor([[0.8400],\n",
              "        [0.8720],\n",
              "        [0.9040],\n",
              "        [0.9360],\n",
              "        [0.9680]])"
            ]
          },
          "metadata": {},
          "execution_count": 8
        }
      ]
    },
    {
      "cell_type": "code",
      "source": [
        "plt.figure(figsize=(7,5))\n",
        "plt.scatter(X_train, y_train, label = 'Training data')\n",
        "plt.scatter(X_test, y_test, label = 'Test data')\n",
        "plt.scatter(X_test, y_predictions, label = 'Model prediction')\n",
        "plt.legend()\n",
        "plt.show()"
      ],
      "metadata": {
        "colab": {
          "base_uri": "https://localhost:8080/",
          "height": 322
        },
        "id": "5l1MMc8sSX6Q",
        "outputId": "682d116b-7ac2-4b85-ac5c-22bb175687ed"
      },
      "execution_count": 9,
      "outputs": [
        {
          "output_type": "display_data",
          "data": {
            "text/plain": [
              "<Figure size 504x360 with 1 Axes>"
            ],
            "image/png": "[encoded data removed]"
          },
          "metadata": {
            "needs_background": "light"
          }
        }
      ]
    },
    {
      "cell_type": "code",
      "source": [
        "#Loss function >> criterion or cost function\n",
        "'''nn.L1loss - mean absolute error\n",
        "   torch.mean((y_prdiction - y_test))\n",
        "'''\n",
        "loss_function = nn.L1Loss()\n",
        "optimizer = torch.optim.SGD(model.parameters(),\n",
        "                            lr = 0.015)\n"
      ],
      "metadata": {
        "id": "S9pFKoK4Sg1l"
      },
      "execution_count": 10,
      "outputs": []
    },
    {
      "cell_type": "code",
      "source": [
        "# loop parameters\n",
        "epochs = 200\n",
        "\n",
        "epoch_array = []\n",
        "training_losses = []\n",
        "test_losses = []"
      ],
      "metadata": {
        "id": "fwP-B0TK-ajd"
      },
      "execution_count": 11,
      "outputs": []
    },
    {
      "cell_type": "code",
      "source": [
        "torch.manual_seed(42)\n",
        "#training\n",
        "for epoch in range(epochs):\n",
        "  model.train() #sets the model parameter's require_grad = True\n",
        "  output = model.forward(X_train)\n",
        "  loss = loss_function(output, y_train) #loss_fn(input, target)\n",
        "  optimizer.zero_grad() #resets the gradients for each iteration (or else it accumulates)\n",
        "  loss.backward() #backpropagation\n",
        "  optimizer.step()\n",
        "\n",
        "  #testing\n",
        "  model.eval()\n",
        "  with torch.no_grad():\n",
        "    test_output = model(X_test)\n",
        "    test_loss = loss_function(test_output, y_test) #loss_function(input,target)\n",
        "  if epoch % 10 == 0:\n",
        "    epoch_array.append(epoch)\n",
        "    training_losses.append(loss)\n",
        "    test_losses.append(test_loss)\n",
        "    print(f'Epoch: {epoch} >> Training loss: {loss} Test loss: {test_loss}')"
      ],
      "metadata": {
        "colab": {
          "base_uri": "https://localhost:8080/"
        },
        "id": "xNvNddp12pHf",
        "outputId": "dfd5ba47-8361-478c-e60b-df605865a6d8"
      },
      "execution_count": 12,
      "outputs": [
        {
          "output_type": "stream",
          "name": "stdout",
          "text": [
            "Epoch: 0 >> Training loss: 0.09317435324192047 Test loss: 0.20851409435272217\n",
            "Epoch: 10 >> Training loss: 0.08786191046237946 Test loss: 0.19977571070194244\n",
            "Epoch: 20 >> Training loss: 0.08270189166069031 Test loss: 0.18695254623889923\n",
            "Epoch: 30 >> Training loss: 0.07753230631351471 Test loss: 0.17412938177585602\n",
            "Epoch: 40 >> Training loss: 0.0723542794585228 Test loss: 0.16130618751049042\n",
            "Epoch: 50 >> Training loss: 0.06717626750469208 Test loss: 0.14848299324512482\n",
            "Epoch: 60 >> Training loss: 0.06199824810028076 Test loss: 0.135659858584404\n",
            "Epoch: 70 >> Training loss: 0.05682025104761124 Test loss: 0.12283675372600555\n",
            "Epoch: 80 >> Training loss: 0.05164225026965141 Test loss: 0.1100137010216713\n",
            "Epoch: 90 >> Training loss: 0.046464256942272186 Test loss: 0.09719063341617584\n",
            "Epoch: 100 >> Training loss: 0.0413019023835659 Test loss: 0.08232512325048447\n",
            "Epoch: 110 >> Training loss: 0.03614191710948944 Test loss: 0.06950207054615021\n",
            "Epoch: 120 >> Training loss: 0.03098193369805813 Test loss: 0.05667901039123535\n",
            "Epoch: 130 >> Training loss: 0.02580627240240574 Test loss: 0.043855927884578705\n",
            "Epoch: 140 >> Training loss: 0.02062828093767166 Test loss: 0.031032752245664597\n",
            "Epoch: 150 >> Training loss: 0.015450294129550457 Test loss: 0.01820960082113743\n",
            "Epoch: 160 >> Training loss: 0.010272313840687275 Test loss: 0.01062775868922472\n",
            "Epoch: 170 >> Training loss: 0.005094327963888645 Test loss: 0.01016854029148817\n",
            "Epoch: 180 >> Training loss: 0.005599548574537039 Test loss: 0.008243274874985218\n",
            "Epoch: 190 >> Training loss: 0.005599548574537039 Test loss: 0.008243274874985218\n"
          ]
        }
      ]
    },
    {
      "cell_type": "code",
      "source": [
        "model.state_dict()"
      ],
      "metadata": {
        "colab": {
          "base_uri": "https://localhost:8080/"
        },
        "id": "VrnVxC3uGY5_",
        "outputId": "3420031a-c6af-43d5-a785-9712a7dc4b66"
      },
      "execution_count": 13,
      "outputs": [
        {
          "output_type": "execute_result",
          "data": {
            "text/plain": [
              "OrderedDict([('weights', tensor([0.7912])), ('bias', tensor([0.2089]))])"
            ]
          },
          "metadata": {},
          "execution_count": 13
        }
      ]
    },
    {
      "cell_type": "code",
      "source": [
        "plt.figure(figsize=(7,5))\n",
        "plt.scatter(X_train, y_train, label = 'Training data')\n",
        "plt.scatter(X_test, y_test, label = 'Test data')\n",
        "plt.scatter(X_test, test_output, label = 'Model prediction')\n",
        "plt.legend()\n",
        "plt.show()"
      ],
      "metadata": {
        "colab": {
          "base_uri": "https://localhost:8080/",
          "height": 320
        },
        "id": "68XIMtU22pJi",
        "outputId": "ad78c2a3-6d7f-4920-8a29-56ea5fb35a74"
      },
      "execution_count": 14,
      "outputs": [
        {
          "output_type": "display_data",
          "data": {
            "text/plain": [
              "<Figure size 504x360 with 1 Axes>"
            ],
            "image/png": "[encoded data removed]"
          },
          "metadata": {
            "needs_background": "light"
          }
        }
      ]
    },
    {
      "cell_type": "code",
      "source": [
        "training_losses = np.array(torch.tensor(training_losses).numpy())\n",
        "test_losses = np.array(torch.tensor(test_losses).numpy())"
      ],
      "metadata": {
        "id": "E_ys0LlWJnV9"
      },
      "execution_count": 15,
      "outputs": []
    },
    {
      "cell_type": "code",
      "source": [
        "#Visualizing losses\n",
        "plt.plot(epoch_array, training_losses, label = 'Training loss')\n",
        "plt.plot(epoch_array, test_losses, label = 'Test loss')\n",
        "plt.xlabel('Epochs')\n",
        "plt.ylabel('loss')\n",
        "plt.legend();"
      ],
      "metadata": {
        "colab": {
          "base_uri": "https://localhost:8080/",
          "height": 279
        },
        "id": "s26xH6HoHphX",
        "outputId": "cebd41fa-1f1d-42ca-8042-a27a8fc6b439"
      },
      "execution_count": 16,
      "outputs": [
        {
          "output_type": "display_data",
          "data": {
            "text/plain": [
              "<Figure size 432x288 with 1 Axes>"
            ],
            "image/png": "[encoded data removed]"
          },
          "metadata": {
            "needs_background": "light"
          }
        }
      ]
    },
    {
      "cell_type": "code",
      "source": [
        "## just as a part of coursework\n",
        "## saving model \n",
        "\n",
        "'''\n",
        "torch.save() >> saves the model in pickle format\n",
        "torch.load()\n",
        "torch.nn.Module.load_state_dict()\n",
        "'''\n",
        "\n",
        "from pathlib import Path\n",
        "\n",
        "#directory\n",
        "model_path = Path('models')\n",
        "model_path.mkdir(parents = True, exist_ok = True)\n",
        "\n",
        "model_name = 'LinearRegression_model.pth'\n",
        "model_saved_path = model_path / model_name   # f-like object\n",
        "\n",
        "print(f'saving model')\n",
        "torch.save(obj = model.state_dict(), f = model_saved_path)"
      ],
      "metadata": {
        "colab": {
          "base_uri": "https://localhost:8080/"
        },
        "id": "1NatJi3wIjWi",
        "outputId": "d364cff8-8b28-4461-fad2-2fc0044d72d6"
      },
      "execution_count": 17,
      "outputs": [
        {
          "output_type": "stream",
          "name": "stdout",
          "text": [
            "saving model\n"
          ]
        }
      ]
    },
    {
      "cell_type": "code",
      "source": [
        "#loading the saved model\n",
        "\n",
        "loaded_model = LinearRegression() #create new model instance first and then update it\n",
        "loaded_model.load_state_dict(torch.load(f=model_saved_path))\n"
      ],
      "metadata": {
        "colab": {
          "base_uri": "https://localhost:8080/"
        },
        "id": "54CV894_SE4Y",
        "outputId": "cce62262-9373-4abd-b1ae-414b7136a6ad"
      },
      "execution_count": 18,
      "outputs": [
        {
          "output_type": "execute_result",
          "data": {
            "text/plain": [
              "<All keys matched successfully>"
            ]
          },
          "metadata": {},
          "execution_count": 18
        }
      ]
    },
    {
      "cell_type": "code",
      "source": [
        "loaded_model.state_dict()"
      ],
      "metadata": {
        "colab": {
          "base_uri": "https://localhost:8080/"
        },
        "id": "MLYgxVX3TWDl",
        "outputId": "8f70dea3-7454-44e6-dfc7-86d89138d71c"
      },
      "execution_count": 19,
      "outputs": [
        {
          "output_type": "execute_result",
          "data": {
            "text/plain": [
              "OrderedDict([('weights', tensor([0.7912])), ('bias', tensor([0.2089]))])"
            ]
          },
          "metadata": {},
          "execution_count": 19
        }
      ]
    },
    {
      "cell_type": "code",
      "source": [
        "# Building a linear model \n",
        "\n",
        "class LinearRegressionV2(nn.Module):\n",
        "  def __init__(self):\n",
        "    super().__init__()\n",
        "    self.linear = nn.Linear(in_features=1, out_features=1)\n",
        "\n",
        "  def forward(self, x):\n",
        "    return self.linear(x)"
      ],
      "metadata": {
        "id": "72KYRfgwTtVs"
      },
      "execution_count": 20,
      "outputs": []
    },
    {
      "cell_type": "code",
      "source": [
        "torch.manual_seed(42)\n",
        "model_v2 = LinearRegressionV2()\n",
        "model_v2.state_dict()"
      ],
      "metadata": {
        "colab": {
          "base_uri": "https://localhost:8080/"
        },
        "id": "wZ8VQ6v0XKUx",
        "outputId": "618931dd-a2a7-42ff-8801-cab160109b76"
      },
      "execution_count": 21,
      "outputs": [
        {
          "output_type": "execute_result",
          "data": {
            "text/plain": [
              "OrderedDict([('linear.weight', tensor([[0.7645]])),\n",
              "             ('linear.bias', tensor([0.8300]))])"
            ]
          },
          "metadata": {},
          "execution_count": 21
        }
      ]
    },
    {
      "cell_type": "code",
      "source": [
        "# using CUDA\n",
        "\n",
        "'''\n",
        "adding device agnostic code\n",
        "model.to(device) & predictions.to(device)\n",
        "plotting uses numpy and it requires data on cpu >> tensor.cpu()\n",
        "'''"
      ],
      "metadata": {
        "id": "Z6RIrbq0XUEg"
      },
      "execution_count": null,
      "outputs": []
    }
  ]
}