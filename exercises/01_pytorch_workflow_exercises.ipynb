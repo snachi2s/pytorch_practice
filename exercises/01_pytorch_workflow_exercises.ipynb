{
  "nbformat": 4,
  "nbformat_minor": 0,
  "metadata": {
    "colab": {
      "provenance": []
    },
    "kernelspec": {
      "name": "python3",
      "display_name": "Python 3"
    },
    "language_info": {
      "name": "python"
    },
    "accelerator": "GPU",
    "gpuClass": "standard"
  },
  "cells": [
    {
      "cell_type": "markdown",
      "metadata": {
        "id": "view-in-github"
      },
      "source": [
        "<a href=\"https://colab.research.google.com/github/mrdbourke/pytorch-deep-learning/blob/main/extras/exercises/01_pytorch_workflow_exercises.ipynb\" target=\"_parent\"><img src=\"https://colab.research.google.com/assets/colab-badge.svg\" alt=\"Open In Colab\"/></a>"
      ]
    },
    {
      "cell_type": "markdown",
      "source": [
        "# 01. PyTorch Workflow Exercise Template\n",
        "\n",
        "The following is a template for the PyTorch workflow exercises.\n",
        "\n",
        "It's only starter code and it's your job to fill in the blanks.\n",
        "\n",
        "Because of the flexibility of PyTorch, there may be more than one way to answer the question.\n",
        "\n",
        "Don't worry about trying to be *right* just try writing code that suffices the question.\n",
        "\n",
        "You can see one form of [solutions on GitHub](https://github.com/mrdbourke/pytorch-deep-learning/tree/main/extras/solutions) (but try the exercises below yourself first!)."
      ],
      "metadata": {
        "id": "N8LsPXZti9Sw"
      }
    },
    {
      "cell_type": "code",
      "source": [
        "# Import necessary libraries\n",
        "import torch\n",
        "import torch.nn as nn\n",
        "import numpy as np\n",
        "import matplotlib.pyplot as plt"
      ],
      "metadata": {
        "id": "Glu2fM4dkNlx"
      },
      "execution_count": 116,
      "outputs": []
    },
    {
      "cell_type": "code",
      "source": [
        "# Setup device-agnostic code\n",
        "device = 'cuda' if torch.cuda.is_available() else 'cpu'"
      ],
      "metadata": {
        "id": "LqKhXY26m31s"
      },
      "execution_count": 117,
      "outputs": []
    },
    {
      "cell_type": "markdown",
      "source": [
        "## 1. Create a straight line dataset using the linear regression formula (`weight * X + bias`).\n",
        "  * Set `weight=0.3` and `bias=0.9` there should be at least 100 datapoints total. \n",
        "  * Split the data into 80% training, 20% testing.\n",
        "  * Plot the training and testing data so it becomes visual.\n",
        "\n",
        "Your output of the below cell should look something like:\n",
        "```\n",
        "Number of X samples: 100\n",
        "Number of y samples: 100\n",
        "First 10 X & y samples:\n",
        "X: tensor([0.0000, 0.0100, 0.0200, 0.0300, 0.0400, 0.0500, 0.0600, 0.0700, 0.0800,\n",
        "        0.0900])\n",
        "y: tensor([0.9000, 0.9030, 0.9060, 0.9090, 0.9120, 0.9150, 0.9180, 0.9210, 0.9240,\n",
        "        0.9270])\n",
        "```\n",
        "\n",
        "Of course the numbers in `X` and `y` may be different but ideally they're created using the linear regression formula."
      ],
      "metadata": {
        "id": "g7HUhxCxjeBx"
      }
    },
    {
      "cell_type": "code",
      "source": [
        "# Create the data parameters\n",
        "weight = 0.3\n",
        "bias = 0.9\n",
        "\n",
        "# Make X and y using linear regression feature\n",
        "X = torch.rand(size=(100,))\n",
        "y = (weight * X) + bias\n",
        "\n",
        "print(f\"Number of X samples: {len(X)}\")\n",
        "print(f\"Number of y samples: {len(y)}\")\n",
        "print(f\"First 10 X & y samples:\\nX: {X[:10]}\\ny: {y[:10]}\")"
      ],
      "metadata": {
        "id": "KbDG5MV7jhvE",
        "colab": {
          "base_uri": "https://localhost:8080/"
        },
        "outputId": "fdbda69f-3a67-4d8f-d462-bfc350a5dee6"
      },
      "execution_count": 118,
      "outputs": [
        {
          "output_type": "stream",
          "name": "stdout",
          "text": [
            "Number of X samples: 100\n",
            "Number of y samples: 100\n",
            "First 10 X & y samples:\n",
            "X: tensor([0.3904, 0.6009, 0.2566, 0.7936, 0.9408, 0.1332, 0.9346, 0.5936, 0.8694,\n",
            "        0.5677])\n",
            "y: tensor([1.0171, 1.0803, 0.9770, 1.1381, 1.1822, 0.9400, 1.1804, 1.0781, 1.1608,\n",
            "        1.0703])\n"
          ]
        }
      ]
    },
    {
      "cell_type": "code",
      "source": [
        "# Split the data into training and testing\n",
        "train_split = int(len(X)*0.8)\n",
        "X_train, y_train = X[:train_split], y[:train_split]\n",
        "X_test, y_test = X[train_split:], y[train_split:]\n",
        "\n",
        "len(X_train), len(X_test)"
      ],
      "metadata": {
        "id": "GlwtT1djkmLw",
        "colab": {
          "base_uri": "https://localhost:8080/"
        },
        "outputId": "88798f43-e48f-4ec2-a781-a63dfe92b1da"
      },
      "execution_count": 119,
      "outputs": [
        {
          "output_type": "execute_result",
          "data": {
            "text/plain": [
              "(80, 20)"
            ]
          },
          "metadata": {},
          "execution_count": 119
        }
      ]
    },
    {
      "cell_type": "code",
      "source": [
        "# Plot the training and testing data \n",
        "plt.figure(figsize = (9,5))\n",
        "plt.scatter(X_train, y_train, c='r', s = 10, label = 'training data')\n",
        "plt.scatter(X_test, y_test, c='b', s = 10, label = 'testing data')\n",
        "plt.legend()\n",
        "plt.show()"
      ],
      "metadata": {
        "id": "29iQZFNhlYJ-",
        "colab": {
          "base_uri": "https://localhost:8080/",
          "height": 445
        },
        "outputId": "53680076-e018-4c2b-e570-77c1ad644885"
      },
      "execution_count": 120,
      "outputs": [
        {
          "output_type": "display_data",
          "data": {
            "text/plain": [
              "<Figure size 900x500 with 1 Axes>"
            ],
            "image/png": "[encoded data removed]"
          },
          "metadata": {}
        }
      ]
    },
    {
      "cell_type": "markdown",
      "source": [
        "## 2. Build a PyTorch model by subclassing `nn.Module`. \n",
        "  * Inside should be a randomly initialized `nn.Parameter()` with `requires_grad=True`, one for `weights` and one for `bias`. \n",
        "  * Implement the `forward()` method to compute the linear regression function you used to create the dataset in 1. \n",
        "  * Once you've constructed the model, make an instance of it and check its `state_dict()`.\n",
        "  * **Note:** If you'd like to use `nn.Linear()` instead of `nn.Parameter()` you can."
      ],
      "metadata": {
        "id": "ImZoe3v8jif8"
      }
    },
    {
      "cell_type": "code",
      "source": [
        "# Create PyTorch linear regression model by subclassing nn.Module\n",
        "class LinearRegression(nn.Module):\n",
        "  def __init__(self):\n",
        "    super().__init__()\n",
        "    self.weight = nn.Parameter(torch.randn(1,requires_grad=True))\n",
        "    self.bias = nn.Parameter(torch.randn(1,requires_grad=True))\n",
        "\n",
        "  def forward(self,x):\n",
        "    linear_model = self.weight * x + self.bias\n",
        "    return linear_model"
      ],
      "metadata": {
        "id": "qzd__Y5rjtB8"
      },
      "execution_count": 121,
      "outputs": []
    },
    {
      "cell_type": "code",
      "source": [
        "# Instantiate the model and put it to the target device\n",
        "torch.manual_seed(42)\n",
        "model = LinearRegression().to(device)\n",
        "model.state_dict()"
      ],
      "metadata": {
        "id": "5LdcDnmOmyQ2",
        "colab": {
          "base_uri": "https://localhost:8080/"
        },
        "outputId": "dea56323-8355-4dcf-a605-c452b23371b1"
      },
      "execution_count": 122,
      "outputs": [
        {
          "output_type": "execute_result",
          "data": {
            "text/plain": [
              "OrderedDict([('weight', tensor([0.3367], device='cuda:0')),\n",
              "             ('bias', tensor([0.1288], device='cuda:0'))])"
            ]
          },
          "metadata": {},
          "execution_count": 122
        }
      ]
    },
    {
      "cell_type": "markdown",
      "source": [
        "## 3. Create a loss function and optimizer using `nn.L1Loss()` and `torch.optim.SGD(params, lr)` respectively. \n",
        "  * Set the learning rate of the optimizer to be 0.01 and the parameters to optimize should be the model parameters from the model you created in 2.\n",
        "  * Write a training loop to perform the appropriate training steps for 300 epochs.\n",
        "  * The training loop should test the model on the test dataset every 20 epochs."
      ],
      "metadata": {
        "id": "G6nYOrJhjtfu"
      }
    },
    {
      "cell_type": "code",
      "source": [
        "# Create the loss function and optimizer\n",
        "loss_fn = nn.L1Loss()\n",
        "optimizer = torch.optim.SGD(params=model.parameters(), lr = 0.01)"
      ],
      "metadata": {
        "id": "ltvoZ-FWjv1j"
      },
      "execution_count": 123,
      "outputs": []
    },
    {
      "cell_type": "code",
      "source": [
        "# Training loop\n",
        "\n",
        "\n",
        "# Train model for 300 epochs\n",
        "EPOCHS = 300\n",
        "\n",
        "\n",
        "# Send data to target device\n",
        "X_train = X_train.to(device)\n",
        "target = y_train.to(device)\n",
        "\n",
        "X_test = X_test.to(device)\n",
        "y_test = y_test.to(device)\n",
        "\n",
        "for epoch in range(EPOCHS):\n",
        "  ### Training\n",
        "\n",
        "  # Put model in train mode\n",
        "  model.train()\n",
        "  # 1. Forward pass\n",
        "  output = model(X_train)\n",
        "  # 2. Calculate loss\n",
        "  loss = loss_fn(output, target)\n",
        "  # 3. Zero gradients\n",
        "  optimizer.zero_grad()\n",
        "  # 4. Backpropagation\n",
        "  loss.backward()\n",
        "  # 5. Step the optimizer\n",
        "  optimizer.step()\n",
        "\n",
        "  ### Perform testing every 20 epochs\n",
        "  if epoch % 20 == 0:\n",
        "    print(f'Epoch: {epoch} >> Training loss: {loss}')\n",
        "    # Put model in evaluation mode and setup inference context \n",
        "    model.eval()\n",
        "    # 1. Forward pass\n",
        "    with torch.no_grad():\n",
        "      model_prediction = model(X_test).to(device)    \n",
        "    # 2. Calculate test loss\n",
        "      test_loss = loss_fn(model_prediction, y_test)\n",
        "\n",
        "    # Print out what's happening\n",
        "    print(f\"Epoch: {epoch} | Train loss: {loss:.3f} | Test loss: {test_loss:.3f}\")"
      ],
      "metadata": {
        "id": "xpE83NvNnkdV",
        "colab": {
          "base_uri": "https://localhost:8080/"
        },
        "outputId": "71fae919-153e-43fe-b07f-b101b70e4e07"
      },
      "execution_count": 124,
      "outputs": [
        {
          "output_type": "stream",
          "name": "stdout",
          "text": [
            "Epoch: 0 >> Training loss: 0.7524572610855103\n",
            "Epoch: 0 | Train loss: 0.752 | Test loss: 0.742\n",
            "Epoch: 20 >> Training loss: 0.5003189444541931\n",
            "Epoch: 20 | Train loss: 0.500 | Test loss: 0.496\n",
            "Epoch: 40 >> Training loss: 0.24818085134029388\n",
            "Epoch: 40 | Train loss: 0.248 | Test loss: 0.250\n",
            "Epoch: 60 >> Training loss: 0.08634836971759796\n",
            "Epoch: 60 | Train loss: 0.086 | Test loss: 0.095\n",
            "Epoch: 80 >> Training loss: 0.07218272238969803\n",
            "Epoch: 80 | Train loss: 0.072 | Test loss: 0.077\n",
            "Epoch: 100 >> Training loss: 0.062462855130434036\n",
            "Epoch: 100 | Train loss: 0.062 | Test loss: 0.067\n",
            "Epoch: 120 >> Training loss: 0.052793897688388824\n",
            "Epoch: 120 | Train loss: 0.053 | Test loss: 0.056\n",
            "Epoch: 140 >> Training loss: 0.04312746226787567\n",
            "Epoch: 140 | Train loss: 0.043 | Test loss: 0.046\n",
            "Epoch: 160 >> Training loss: 0.033459436148405075\n",
            "Epoch: 160 | Train loss: 0.033 | Test loss: 0.035\n",
            "Epoch: 180 >> Training loss: 0.023790329694747925\n",
            "Epoch: 180 | Train loss: 0.024 | Test loss: 0.025\n",
            "Epoch: 200 >> Training loss: 0.014123654924333096\n",
            "Epoch: 200 | Train loss: 0.014 | Test loss: 0.015\n",
            "Epoch: 220 >> Training loss: 0.004456610418856144\n",
            "Epoch: 220 | Train loss: 0.004 | Test loss: 0.004\n",
            "Epoch: 240 >> Training loss: 0.007234025746583939\n",
            "Epoch: 240 | Train loss: 0.007 | Test loss: 0.006\n",
            "Epoch: 260 >> Training loss: 0.007234025746583939\n",
            "Epoch: 260 | Train loss: 0.007 | Test loss: 0.006\n",
            "Epoch: 280 >> Training loss: 0.007234025746583939\n",
            "Epoch: 280 | Train loss: 0.007 | Test loss: 0.006\n"
          ]
        }
      ]
    },
    {
      "cell_type": "markdown",
      "source": [
        "## 4. Make predictions with the trained model on the test data.\n",
        "  * Visualize these predictions against the original training and testing data (**note:** you may need to make sure the predictions are *not* on the GPU if you want to use non-CUDA-enabled libraries such as matplotlib to plot)."
      ],
      "metadata": {
        "id": "x4j4TM18jwa7"
      }
    },
    {
      "cell_type": "code",
      "source": [
        "y_test"
      ],
      "metadata": {
        "colab": {
          "base_uri": "https://localhost:8080/"
        },
        "id": "yMaE9ZHk0GOE",
        "outputId": "3a3549ae-c6f4-4525-e841-259987278be3"
      },
      "execution_count": 125,
      "outputs": [
        {
          "output_type": "execute_result",
          "data": {
            "text/plain": [
              "tensor([1.1410, 1.0144, 1.1358, 0.9335, 0.9743, 1.0957, 1.0817, 1.0118, 1.1394,\n",
              "        1.1520, 0.9412, 0.9699, 1.1873, 0.9994, 0.9968, 0.9049, 0.9641, 1.0875,\n",
              "        1.0302, 0.9411], device='cuda:0')"
            ]
          },
          "metadata": {},
          "execution_count": 125
        }
      ]
    },
    {
      "cell_type": "code",
      "source": [
        "# Make predictions with the model\n",
        "model.state_dict()\n",
        "with torch.no_grad():\n",
        "  after_model_preds = model(X_test)\n",
        "after_model_preds"
      ],
      "metadata": {
        "id": "bbMPK5Qjjyx_",
        "colab": {
          "base_uri": "https://localhost:8080/"
        },
        "outputId": "007fa1ba-ffef-43ce-f0e1-fa0f84ba3662"
      },
      "execution_count": 126,
      "outputs": [
        {
          "output_type": "execute_result",
          "data": {
            "text/plain": [
              "tensor([1.1515, 1.0202, 1.1461, 0.9363, 0.9786, 1.1045, 1.0900, 1.0175, 1.1498,\n",
              "        1.1629, 0.9443, 0.9741, 1.1996, 1.0046, 1.0020, 0.9066, 0.9680, 1.0960,\n",
              "        1.0366, 0.9442], device='cuda:0')"
            ]
          },
          "metadata": {},
          "execution_count": 126
        }
      ]
    },
    {
      "cell_type": "code",
      "source": [
        "# Plot the predictions (these may need to be on a specific device)\n",
        "def cuda_to_numpy(x):\n",
        "  x = x.clone().detach().cpu()\n",
        "  return np.array(x.numpy())\n",
        "plt.figure(figsize = (9,5))\n",
        "plt.scatter(cuda_to_numpy(X_train), cuda_to_numpy(y_train), c='r', s = 14, label = 'Training data')\n",
        "plt.scatter(cuda_to_numpy(X_test), cuda_to_numpy(y_test), c='b', s = 14, label = 'Testing data')\n",
        "plt.scatter(cuda_to_numpy(X_test), cuda_to_numpy(after_model_preds), c = 'g', s = 14, label = 'Model output')\n",
        "plt.legend()\n",
        "plt.show()"
      ],
      "metadata": {
        "id": "K3BdmQaDpFo8",
        "colab": {
          "base_uri": "https://localhost:8080/",
          "height": 445
        },
        "outputId": "76926cc0-c3ed-4890-e0d7-eb43b488332a"
      },
      "execution_count": 127,
      "outputs": [
        {
          "output_type": "display_data",
          "data": {
            "text/plain": [
              "<Figure size 900x500 with 1 Axes>"
            ],
            "image/png": "[encoded data removed]"
          },
          "metadata": {}
        }
      ]
    },
    {
      "cell_type": "markdown",
      "source": [
        "## 5. Save your trained model's `state_dict()` to file.\n",
        "  * Create a new instance of your model class you made in 2. and load in the `state_dict()` you just saved to it.\n",
        "  * Perform predictions on your test data with the loaded model and confirm they match the original model predictions from 4."
      ],
      "metadata": {
        "id": "s2OnlMWKjzX8"
      }
    },
    {
      "cell_type": "code",
      "source": [
        "from pathlib import Path\n",
        "\n",
        "# 1. Create models directory \n",
        "path = Path('linear_model')\n",
        "path.mkdir()\n",
        "\n",
        "# 2. Create model save path \n",
        "model_name = 'Linear_regression_model with rand100'\n",
        "model_save_path = path/model_name\n",
        "\n",
        "# 3. Save the model state dict\n",
        "print('saving...')\n",
        "torch.save(model.state_dict(), f = model_save_path)\n",
        "\n",
        "'''\n",
        "local device >> torch.save(params, save_path)\n",
        "'''"
      ],
      "metadata": {
        "id": "hgxhgD14qr-i",
        "colab": {
          "base_uri": "https://localhost:8080/",
          "height": 53
        },
        "outputId": "15fee162-7e05-46d1-d3c9-3ac8aea4cf3d"
      },
      "execution_count": 128,
      "outputs": [
        {
          "output_type": "stream",
          "name": "stdout",
          "text": [
            "saving...\n"
          ]
        },
        {
          "output_type": "execute_result",
          "data": {
            "text/plain": [
              "'\\nlocal device >> torch.save(params, save_path)\\n'"
            ],
            "application/vnd.google.colaboratory.intrinsic+json": {
              "type": "string"
            }
          },
          "metadata": {},
          "execution_count": 128
        }
      ]
    },
    {
      "cell_type": "code",
      "source": [
        "# Create new instance of model and load saved state dict (make sure to put it on the target device)\n",
        "loaded_model = LinearRegression()\n",
        "updated = torch.load(f=model_save_path)\n",
        "loaded_model.load_state_dict(updated)"
      ],
      "metadata": {
        "id": "P9vTgiLRrJ7T",
        "colab": {
          "base_uri": "https://localhost:8080/"
        },
        "outputId": "81e7b7cc-1fdd-4321-d3a7-9b04bbd9a2f7"
      },
      "execution_count": 129,
      "outputs": [
        {
          "output_type": "execute_result",
          "data": {
            "text/plain": [
              "<All keys matched successfully>"
            ]
          },
          "metadata": {},
          "execution_count": 129
        }
      ]
    },
    {
      "cell_type": "code",
      "source": [
        "# Make predictions with loaded model and compare them to the previous\n",
        "print(device)\n",
        "X_train = X_train.to(device)\n",
        "target = y_train.to(device)\n",
        "\n",
        "X_test = X_test.to(device)\n",
        "y_test = y_test.to(device)\n",
        "loaded_model = loaded_model.to(device)\n",
        "\n",
        "loaded_model.eval()\n",
        "with torch.no_grad():\n",
        "  loaded_model_preds = loaded_model(X_test)\n",
        "loaded_model.state_dict()\n"
      ],
      "metadata": {
        "id": "8UGX3VebrVtI",
        "colab": {
          "base_uri": "https://localhost:8080/"
        },
        "outputId": "8b4a3360-005b-416b-a51f-daeaeffaad1c"
      },
      "execution_count": 130,
      "outputs": [
        {
          "output_type": "stream",
          "name": "stdout",
          "text": [
            "cuda\n"
          ]
        },
        {
          "output_type": "execute_result",
          "data": {
            "text/plain": [
              "OrderedDict([('weight', tensor([0.3111], device='cuda:0')),\n",
              "             ('bias', tensor([0.9016], device='cuda:0'))])"
            ]
          },
          "metadata": {},
          "execution_count": 130
        }
      ]
    },
    {
      "cell_type": "code",
      "source": [],
      "metadata": {
        "id": "IqqANchE42Xt"
      },
      "execution_count": 130,
      "outputs": []
    }
  ]
}