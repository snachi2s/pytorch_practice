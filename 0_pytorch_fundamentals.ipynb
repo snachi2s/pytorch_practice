{
  "nbformat": 4,
  "nbformat_minor": 0,
  "metadata": {
    "colab": {
      "provenance": []
    },
    "kernelspec": {
      "name": "python3",
      "display_name": "Python 3"
    },
    "language_info": {
      "name": "python"
    },
    "gpuClass": "standard",
    "accelerator": "GPU"
  },
  "cells": [
    {
      "cell_type": "code",
      "execution_count": 2,
      "metadata": {
        "id": "vXYG-1wJKUPI"
      },
      "outputs": [],
      "source": [
        "import  torch\n",
        "import pandas as pd\n",
        "import numpy as np"
      ]
    },
    {
      "cell_type": "markdown",
      "source": [
        "# Fundamentals"
      ],
      "metadata": {
        "id": "TVLomD2RWpM9"
      }
    },
    {
      "cell_type": "code",
      "source": [
        "# Basics in tensors\n",
        "\n",
        "tensor_1 = torch.tensor(np.array([[7,8,9],[4,3,6]]),dtype = torch.float32)\n",
        "tensor_2 = tensor_1.clone()\n",
        "#tensor_3 = tensor_2\n",
        "print(tensor_1.size())\n",
        "print(tensor_2)\n",
        "\n",
        "#changing one entry\n",
        "tensor_1[1][2] = 0\n",
        "#clone will create a new tensor but detach() disconnects the current tensor from the computation graph\n",
        "#detach uses less memory since it won't calculate gradients\n",
        "print(tensor_1)\n",
        "print(tensor_2)"
      ],
      "metadata": {
        "colab": {
          "base_uri": "https://localhost:8080/"
        },
        "id": "5MO1ENzWW0m6",
        "outputId": "20fe3dfa-3b8a-4b68-cefe-3fb42d7e66ff"
      },
      "execution_count": 3,
      "outputs": [
        {
          "output_type": "stream",
          "name": "stdout",
          "text": [
            "torch.Size([2, 3])\n",
            "tensor([[7., 8., 9.],\n",
            "        [4., 3., 6.]])\n",
            "tensor([[7., 8., 9.],\n",
            "        [4., 3., 0.]])\n",
            "tensor([[7., 8., 9.],\n",
            "        [4., 3., 6.]])\n"
          ]
        }
      ]
    },
    {
      "cell_type": "code",
      "source": [
        "tensor_1.ndim"
      ],
      "metadata": {
        "colab": {
          "base_uri": "https://localhost:8080/"
        },
        "id": "oIdkPn-YcOwJ",
        "outputId": "677cfcf0-18ff-4281-8f4b-e3386fcbe09b"
      },
      "execution_count": 4,
      "outputs": [
        {
          "output_type": "execute_result",
          "data": {
            "text/plain": [
              "2"
            ]
          },
          "metadata": {},
          "execution_count": 4
        }
      ]
    },
    {
      "cell_type": "code",
      "source": [
        "tensor_1.shape"
      ],
      "metadata": {
        "colab": {
          "base_uri": "https://localhost:8080/"
        },
        "id": "9kp8EhcGjFvt",
        "outputId": "2f2c1d7c-e75d-430e-d492-c9113256098b"
      },
      "execution_count": 5,
      "outputs": [
        {
          "output_type": "execute_result",
          "data": {
            "text/plain": [
              "torch.Size([2, 3])"
            ]
          },
          "metadata": {},
          "execution_count": 5
        }
      ]
    },
    {
      "cell_type": "code",
      "source": [
        "multi_tensor = torch.tensor([[[[1,2,3],\n",
        "                              [3,2,3],\n",
        "                              [4,2,2]]]])"
      ],
      "metadata": {
        "id": "F_8ig44OjRar"
      },
      "execution_count": 6,
      "outputs": []
    },
    {
      "cell_type": "code",
      "source": [
        "multi_tensor.ndim # '['"
      ],
      "metadata": {
        "colab": {
          "base_uri": "https://localhost:8080/"
        },
        "id": "PXfDn9pkkhIl",
        "outputId": "8f446a1d-4606-4e26-c89e-8781370f6f6d"
      },
      "execution_count": 7,
      "outputs": [
        {
          "output_type": "execute_result",
          "data": {
            "text/plain": [
              "4"
            ]
          },
          "metadata": {},
          "execution_count": 7
        }
      ]
    },
    {
      "cell_type": "code",
      "source": [
        "multi_tensor.shape"
      ],
      "metadata": {
        "colab": {
          "base_uri": "https://localhost:8080/"
        },
        "id": "dyBni5F3khN2",
        "outputId": "d525383e-7be4-4470-9893-a62cfd82806b"
      },
      "execution_count": 8,
      "outputs": [
        {
          "output_type": "execute_result",
          "data": {
            "text/plain": [
              "torch.Size([1, 1, 3, 3])"
            ]
          },
          "metadata": {},
          "execution_count": 8
        }
      ]
    },
    {
      "cell_type": "code",
      "source": [
        "multi_tensor[0][0][1][1]"
      ],
      "metadata": {
        "colab": {
          "base_uri": "https://localhost:8080/"
        },
        "id": "fzkOCktNkhS5",
        "outputId": "29f2e0d0-f817-4d8b-b1e0-bf57ac1cad95"
      },
      "execution_count": 9,
      "outputs": [
        {
          "output_type": "execute_result",
          "data": {
            "text/plain": [
              "tensor(2)"
            ]
          },
          "metadata": {},
          "execution_count": 9
        }
      ]
    },
    {
      "cell_type": "code",
      "source": [
        "#Random tensors\n",
        "random_tensor = torch.rand(1,2,3)\n",
        "random_tensor"
      ],
      "metadata": {
        "colab": {
          "base_uri": "https://localhost:8080/"
        },
        "id": "BIoBO6ujk-Uc",
        "outputId": "d8d8f51d-ef5b-4a49-d392-7e96d41d39e3"
      },
      "execution_count": 10,
      "outputs": [
        {
          "output_type": "execute_result",
          "data": {
            "text/plain": [
              "tensor([[[0.3184, 0.1701, 0.4334],\n",
              "         [0.2671, 0.0141, 0.1578]]])"
            ]
          },
          "metadata": {},
          "execution_count": 10
        }
      ]
    },
    {
      "cell_type": "code",
      "source": [
        "image_tensor = torch.rand(size=(3,224,224))"
      ],
      "metadata": {
        "id": "uP1z2sfen26N"
      },
      "execution_count": 11,
      "outputs": []
    },
    {
      "cell_type": "code",
      "source": [
        "torch.zeros(3,3)"
      ],
      "metadata": {
        "colab": {
          "base_uri": "https://localhost:8080/"
        },
        "id": "RflWe4Dyq72g",
        "outputId": "60f5306d-a870-4c2a-c81d-666f335a6f77"
      },
      "execution_count": 12,
      "outputs": [
        {
          "output_type": "execute_result",
          "data": {
            "text/plain": [
              "tensor([[0., 0., 0.],\n",
              "        [0., 0., 0.],\n",
              "        [0., 0., 0.]])"
            ]
          },
          "metadata": {},
          "execution_count": 12
        }
      ]
    },
    {
      "cell_type": "code",
      "source": [
        "#Similar to java, it does the auto conversion to the larger data type\n",
        "t1 = torch.tensor([1.888,2,3],dtype = torch.float16)\n",
        "t2 = torch.tensor([2.0,3,6],dtype = torch.float32)\n",
        "t = t1*t2\n",
        "t.dtype"
      ],
      "metadata": {
        "colab": {
          "base_uri": "https://localhost:8080/"
        },
        "id": "hN2zrn32teX5",
        "outputId": "8b7e1a0a-ba1e-4e4f-9c08-0bb6e47c49e1"
      },
      "execution_count": 13,
      "outputs": [
        {
          "output_type": "execute_result",
          "data": {
            "text/plain": [
              "torch.float32"
            ]
          },
          "metadata": {},
          "execution_count": 13
        }
      ]
    },
    {
      "cell_type": "code",
      "source": [
        "tensor_x = torch.arange(10,1000,step = 20,dtype = torch.float32)\n",
        "torch.mean(tensor_x),torch.argmax(tensor_x), tensor_x.shape"
      ],
      "metadata": {
        "colab": {
          "base_uri": "https://localhost:8080/"
        },
        "id": "juY1AvrwwFIV",
        "outputId": "8b236376-1f24-4af7-af67-f59efde722ce"
      },
      "execution_count": 14,
      "outputs": [
        {
          "output_type": "execute_result",
          "data": {
            "text/plain": [
              "(tensor(500.), tensor(49), torch.Size([50]))"
            ]
          },
          "metadata": {},
          "execution_count": 14
        }
      ]
    },
    {
      "cell_type": "code",
      "source": [
        "## reshaping, squeezing\n",
        "## view --> different representation but shares same memory space \n",
        "## squeeze - removes all 1-dimensional tensor\n",
        "## unsqueeze(dim*) - adds an extra dimension in *row(dim=0) and column(dim=1)\n",
        "## stack - dim=0 (row) and dim=1 (column)\n",
        "## permute - swaps/shifts the tensor dimensions\n",
        "\n",
        "tensor_x.reshape(5,10) "
      ],
      "metadata": {
        "colab": {
          "base_uri": "https://localhost:8080/"
        },
        "id": "PzFv9pNq0Qla",
        "outputId": "b21ba29d-e6a3-461d-e82f-3f698e276a8f"
      },
      "execution_count": 15,
      "outputs": [
        {
          "output_type": "execute_result",
          "data": {
            "text/plain": [
              "tensor([[ 10.,  30.,  50.,  70.,  90., 110., 130., 150., 170., 190.],\n",
              "        [210., 230., 250., 270., 290., 310., 330., 350., 370., 390.],\n",
              "        [410., 430., 450., 470., 490., 510., 530., 550., 570., 590.],\n",
              "        [610., 630., 650., 670., 690., 710., 730., 750., 770., 790.],\n",
              "        [810., 830., 850., 870., 890., 910., 930., 950., 970., 990.]])"
            ]
          },
          "metadata": {},
          "execution_count": 15
        }
      ]
    },
    {
      "cell_type": "code",
      "source": [
        "new_tensor = tensor_x.view(1,50)\n",
        "new_tensor"
      ],
      "metadata": {
        "colab": {
          "base_uri": "https://localhost:8080/"
        },
        "id": "KfX-b6581ovj",
        "outputId": "e7aae6e2-0e16-4adc-aa82-a9c66a139423"
      },
      "execution_count": 16,
      "outputs": [
        {
          "output_type": "execute_result",
          "data": {
            "text/plain": [
              "tensor([[ 10.,  30.,  50.,  70.,  90., 110., 130., 150., 170., 190., 210., 230.,\n",
              "         250., 270., 290., 310., 330., 350., 370., 390., 410., 430., 450., 470.,\n",
              "         490., 510., 530., 550., 570., 590., 610., 630., 650., 670., 690., 710.,\n",
              "         730., 750., 770., 790., 810., 830., 850., 870., 890., 910., 930., 950.,\n",
              "         970., 990.]])"
            ]
          },
          "metadata": {},
          "execution_count": 16
        }
      ]
    },
    {
      "cell_type": "code",
      "source": [
        "squeezed_tensor = new_tensor.squeeze()\n",
        "squeezed_tensor.shape"
      ],
      "metadata": {
        "colab": {
          "base_uri": "https://localhost:8080/"
        },
        "id": "4_cuPlj72wQi",
        "outputId": "389d6ba0-76eb-4459-a4f7-12bfec47e37b"
      },
      "execution_count": 17,
      "outputs": [
        {
          "output_type": "execute_result",
          "data": {
            "text/plain": [
              "torch.Size([50])"
            ]
          },
          "metadata": {},
          "execution_count": 17
        }
      ]
    },
    {
      "cell_type": "code",
      "source": [
        "unsqueezed_tensor = squeezed_tensor.unsqueeze(dim=0)\n",
        "unsqueezed_tensor, unsqueezed_tensor.shape"
      ],
      "metadata": {
        "colab": {
          "base_uri": "https://localhost:8080/"
        },
        "id": "NOe9cMNt3hMy",
        "outputId": "38c05805-f4c1-4639-9850-e11e0e0a03ed"
      },
      "execution_count": 18,
      "outputs": [
        {
          "output_type": "execute_result",
          "data": {
            "text/plain": [
              "(tensor([[ 10.,  30.,  50.,  70.,  90., 110., 130., 150., 170., 190., 210., 230.,\n",
              "          250., 270., 290., 310., 330., 350., 370., 390., 410., 430., 450., 470.,\n",
              "          490., 510., 530., 550., 570., 590., 610., 630., 650., 670., 690., 710.,\n",
              "          730., 750., 770., 790., 810., 830., 850., 870., 890., 910., 930., 950.,\n",
              "          970., 990.]]), torch.Size([1, 50]))"
            ]
          },
          "metadata": {},
          "execution_count": 18
        }
      ]
    },
    {
      "cell_type": "code",
      "source": [
        "x = torch.tensor([[[1,2,3],\n",
        "                   [4,5,6],\n",
        "                   [7,8,9]]])\n",
        "x[:,1,2]"
      ],
      "metadata": {
        "colab": {
          "base_uri": "https://localhost:8080/"
        },
        "id": "Hl1Jbct84nu8",
        "outputId": "e1f52f7a-e3b5-45bb-a4d9-8310faf87582"
      },
      "execution_count": 19,
      "outputs": [
        {
          "output_type": "execute_result",
          "data": {
            "text/plain": [
              "tensor([6])"
            ]
          },
          "metadata": {},
          "execution_count": 19
        }
      ]
    },
    {
      "cell_type": "code",
      "source": [
        "#numpy array to tensors\n",
        "numpy_array = np.array(([7,4,1],\n",
        "                        [2,5,8],\n",
        "                        [9,6,3]))\n",
        "pytorch_tensor = torch.from_numpy(numpy_array)\n",
        "print(pytorch_tensor.dtype)\n",
        "#numpy array >> default dtype: int64 thus from_numpy creates float64 tensors by default (pytorch default: float32)\n",
        "\n",
        "#safe usage\n",
        "pytorch_tensor = torch.from_numpy(numpy_array).type(torch.float32)\n",
        "print(f'pytorch_tensor: {pytorch_tensor}')\n",
        "\n",
        "##tensor to numpy array\n",
        "#tensor_ = torch.tensor(([1,1,1],\n",
        "#                       [4,4,4]))\n",
        "numpy_ = pytorch_tensor.numpy()\n",
        "print(f'numpy array: {numpy_}')"
      ],
      "metadata": {
        "id": "5Xzyb9Uk7rXX",
        "colab": {
          "base_uri": "https://localhost:8080/"
        },
        "outputId": "6eba3a5e-1fef-4680-a828-39fc3830aee9"
      },
      "execution_count": 20,
      "outputs": [
        {
          "output_type": "stream",
          "name": "stdout",
          "text": [
            "torch.int64\n",
            "pytorch_tensor: tensor([[7., 4., 1.],\n",
            "        [2., 5., 8.],\n",
            "        [9., 6., 3.]])\n",
            "numpy array: [[7. 4. 1.]\n",
            " [2. 5. 8.]\n",
            " [9. 6. 3.]]\n"
          ]
        }
      ]
    },
    {
      "cell_type": "code",
      "source": [
        "#random seed (just a usage example)\n",
        "torch.manual_seed(42)\n",
        "rand_1 = torch.rand(2,2)\n",
        "rand_1"
      ],
      "metadata": {
        "colab": {
          "base_uri": "https://localhost:8080/"
        },
        "id": "k-Vh9J0FOO1j",
        "outputId": "3ea0626b-2b9c-48a8-9b6d-e0b46cf9f607"
      },
      "execution_count": 21,
      "outputs": [
        {
          "output_type": "execute_result",
          "data": {
            "text/plain": [
              "tensor([[0.8823, 0.9150],\n",
              "        [0.3829, 0.9593]])"
            ]
          },
          "metadata": {},
          "execution_count": 21
        }
      ]
    },
    {
      "cell_type": "code",
      "source": [
        "### Accessing GPUs\n",
        "torch.cuda.is_available()\n",
        "\n",
        "#usage\n",
        "device = 'cuda' if torch.cuda.is_available() else 'cpu'\n",
        "device"
      ],
      "metadata": {
        "colab": {
          "base_uri": "https://localhost:8080/",
          "height": 35
        },
        "id": "bq1mEvAkS-4U",
        "outputId": "a4ac8030-587a-4aff-daec-c6539aeb6138"
      },
      "execution_count": 25,
      "outputs": [
        {
          "output_type": "execute_result",
          "data": {
            "text/plain": [
              "'cuda'"
            ],
            "application/vnd.google.colaboratory.intrinsic+json": {
              "type": "string"
            }
          },
          "metadata": {},
          "execution_count": 25
        }
      ]
    },
    {
      "cell_type": "code",
      "source": [
        "#moving tensors\n",
        "rand_1 = rand_1.to(device)\n",
        "rand_1\n",
        "\n",
        "#numpy operations won't be running on GPÜs\n",
        "array = rand_1.cpu().numpy()\n",
        "array"
      ],
      "metadata": {
        "colab": {
          "base_uri": "https://localhost:8080/"
        },
        "id": "MOMOWC09S-6u",
        "outputId": "b819a453-ab3d-4e9b-c303-f9b639472005"
      },
      "execution_count": 35,
      "outputs": [
        {
          "output_type": "execute_result",
          "data": {
            "text/plain": [
              "array([[0.88226926, 0.91500396],\n",
              "       [0.38286376, 0.95930564]], dtype=float32)"
            ]
          },
          "metadata": {},
          "execution_count": 35
        }
      ]
    },
    {
      "cell_type": "code",
      "source": [],
      "metadata": {
        "id": "ck-5PXI_fNTz"
      },
      "execution_count": null,
      "outputs": []
    }
  ]
}